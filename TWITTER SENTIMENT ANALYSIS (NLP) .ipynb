Data set for the project: https://www.kaggle.com/datasets/kazanova/sentiment140
